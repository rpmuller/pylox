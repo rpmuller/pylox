{
  "cells": [
    {
      "cell_type": "markdown",
      "metadata": {
        "id": "ruiA2xJEMKeL"
      },
      "source": [
        "Writing `jlox` from [Crafting Interpreters](https://craftinginterpreters.com/) in Python."
      ]
    },
    {
      "cell_type": "code",
      "execution_count": 2,
      "metadata": {
        "id": "uQ3NBfLOMTcZ"
      },
      "outputs": [],
      "source": [
        "import sys\n",
        "from enum import Enum"
      ]
    },
    {
      "cell_type": "code",
      "execution_count": 3,
      "metadata": {
        "id": "NVWzjMmDMW8R"
      },
      "outputs": [],
      "source": [
        "# Globals\n",
        "hadError = False\n",
        "\n",
        "TokenType = Enum('TokenType',[\n",
        "    # Single-character tokens.\n",
        "    'LEFT_PAREN', 'RIGHT_PAREN', 'LEFT_BRACE', 'RIGHT_BRACE',\n",
        "    'COMMA', 'DOT', 'MINUS', 'PLUS', 'SEMICOLON', 'SLASH', 'STAR',\n",
        "\n",
        "    # One or two character tokens.\n",
        "    'BANG', 'BANG_EQUAL',\n",
        "    'EQUAL', 'EQUAL_EQUAL',\n",
        "    'GREATER', 'GREATER_EQUAL',\n",
        "    'LESS', 'LESS_EQUAL',\n",
        "\n",
        "    # Literals.\n",
        "    'IDENTIFIER', 'STRING', 'NUMBER',\n",
        "\n",
        "    # Keywords.\n",
        "    'AND', 'CLASS', 'ELSE', 'FALSE', 'FUN', 'FOR', 'IF', 'NIL', 'OR',\n",
        "    'PRINT', 'RETURN', 'SUPER', 'THIS', 'TRUE', 'VAR', 'WHILE',\n",
        "\n",
        "    'EOF'])"
      ]
    },
    {
      "cell_type": "code",
      "execution_count": 4,
      "metadata": {
        "id": "jzrbQr-OwZ8A"
      },
      "outputs": [],
      "source": [
        "keywords = {\"and\" : TokenType.AND,\n",
        "            \"class\" : TokenType.CLASS,\n",
        "            \"else\" : TokenType.ELSE,\n",
        "            \"false\" : TokenType.FALSE,\n",
        "            \"for\" : TokenType.FOR,\n",
        "            \"fun\" : TokenType.FUN,\n",
        "            \"if\" : TokenType.IF,\n",
        "            \"nil\" : TokenType.NIL,\n",
        "            \"or\" : TokenType.OR,\n",
        "            \"print\" : TokenType.PRINT,\n",
        "            \"return\" : TokenType.RETURN,\n",
        "            \"super\" : TokenType.SUPER,\n",
        "            \"this\" : TokenType.THIS,\n",
        "            \"true\" : TokenType.TRUE,\n",
        "            \"var\" : TokenType.VAR,\n",
        "            \"while\" : TokenType.WHILE}"
      ]
    },
    {
      "cell_type": "code",
      "execution_count": 5,
      "metadata": {
        "id": "004gQzZyMgyd"
      },
      "outputs": [],
      "source": [
        "def main():\n",
        "  if len(sys.args) > 1:\n",
        "    print(\"Usage: pylox [script]\")\n",
        "    sys.exit(64)\n",
        "  elif len(sys.args) == 1:\n",
        "    runFile(sys.args[0])\n",
        "  else:\n",
        "    runPrompt()\n",
        "  return"
      ]
    },
    {
      "cell_type": "code",
      "execution_count": 6,
      "metadata": {
        "id": "MfeIwv5eMjfm"
      },
      "outputs": [],
      "source": [
        "def runPrompt():\n",
        "  while True:\n",
        "    line = input(\"pylox> \")\n",
        "    if len(line) == 0: break\n",
        "    run(line)\n",
        "    hadError = False\n",
        "  return"
      ]
    },
    {
      "cell_type": "code",
      "execution_count": 7,
      "metadata": {
        "id": "0ZOXfLhmMnpS"
      },
      "outputs": [],
      "source": [
        "def runFile(fname):\n",
        "  lines = open(fname,'r').readlines()\n",
        "  for line in lines:\n",
        "    run(line)\n",
        "    if (hadError): sys.exit(65)\n",
        "  return"
      ]
    },
    {
      "cell_type": "code",
      "execution_count": 8,
      "metadata": {
        "id": "hLkne2MsMqLh"
      },
      "outputs": [],
      "source": [
        "def run(source):\n",
        "  scanner = Scanner(source)\n",
        "  tokens = scanner.scanTokens()\n",
        "\n",
        "  for token in tokens:\n",
        "    print(token)\n",
        "  return"
      ]
    },
    {
      "cell_type": "code",
      "execution_count": 9,
      "metadata": {
        "id": "ZU7c8aEoMtnH"
      },
      "outputs": [],
      "source": [
        "def error(line,message): report(line,\"\",message)\n",
        "def report(line,where,message):\n",
        "  print(\"[line \",line,\"]\",\"Error\",where,\":\",message)\n",
        "  hadError = True\n",
        "  return"
      ]
    },
    {
      "cell_type": "code",
      "execution_count": 10,
      "metadata": {
        "id": "ZfecjhjHHLQp"
      },
      "outputs": [],
      "source": [
        "class Token: # Could also use a dataclass or a named tuple\n",
        "  def __init__(self,type,lexeme,literal,line):\n",
        "    self.type = type\n",
        "    self.lexeme = lexeme\n",
        "    self.literal = literal\n",
        "    self.line = line\n",
        "    return\n",
        "\n",
        "  def __repr__(self): return self.toString()\n",
        "\n",
        "  def toString(self): return f\"{self.type} {self.lexeme} {self.literal}\""
      ]
    },
    {
      "cell_type": "code",
      "execution_count": 11,
      "metadata": {
        "colab": {
          "base_uri": "https://localhost:8080/"
        },
        "id": "9XT84rwGNT3M",
        "outputId": "c6de89c2-7e4f-4daf-c5ee-efa26a553d0f"
      },
      "outputs": [
        {
          "data": {
            "text/plain": [
              "1 2 3"
            ]
          },
          "execution_count": 11,
          "metadata": {},
          "output_type": "execute_result"
        }
      ],
      "source": [
        "Token(1,2,3,4)"
      ]
    },
    {
      "cell_type": "code",
      "execution_count": 12,
      "metadata": {
        "id": "qfRsSCy8NW0D"
      },
      "outputs": [],
      "source": [
        "class Scanner:\n",
        "  def __init__(self,source):\n",
        "    self.source = source\n",
        "    self.start = 0\n",
        "    self.current = 0\n",
        "    self.line = 1\n",
        "    self.tokens = []\n",
        "    return\n",
        "\n",
        "  def scanTokens(self):\n",
        "    while not self.isAtEnd():\n",
        "      self.start = self.current\n",
        "      self.scanToken()\n",
        "    self.tokens.append(Token(TokenType.EOF,\"\",None,self.line)) # Add EOF character\n",
        "    return self.tokens\n",
        "\n",
        "  def scanToken(self):\n",
        "    # Use 3.10's match/case statement\n",
        "    c = self.advance()\n",
        "    match c:\n",
        "      case '(': self.addToken(TokenType.LEFT_PAREN)\n",
        "      case ')': self.addToken(TokenType.RIGHT_PAREN)\n",
        "      case '{': self.addToken(TokenType.LEFT_BRACE)\n",
        "      case '}': self.addToken(TokenType.RIGHT_BRACE)\n",
        "      case ',': self.addToken(TokenType.COMMA)\n",
        "      case '.': self.addToken(TokenType.DOT)\n",
        "      case '-': self.addToken(TokenType.MINUS)\n",
        "      case '+': self.addToken(TokenType.PLUS)\n",
        "      case ';': self.addToken(TokenType.SEMICOLON)\n",
        "      case '*': self.addToken(TokenType.STAR)\n",
        "      case '!':\n",
        "        token = TokenType.BANG_EQUAL if self.matchNext('=') else TokenType.BANG\n",
        "        self.addToken(token)\n",
        "      case '=':\n",
        "        token = TokenType.EQUAL_EQUAL if self.matchNext('=') else TokenType.EQUAL\n",
        "        self.addToken(token)\n",
        "      case '<':\n",
        "        token = TokenType.LESS_EQUAL if self.matchNext('=') else TokenType.LESS\n",
        "        self.addToken(token)\n",
        "      case '>':\n",
        "        token = TokenType.GREATER_EQUAL if self.matchNext('=') else TokenType.GREATER\n",
        "        self.addToken(token)\n",
        "      case '/':\n",
        "        if self.matchNext('/'):\n",
        "          while (self.peek() != '\\n') and (not self.isAtEnd()): self.advance()\n",
        "        else:\n",
        "          self.addToken(TokenType.SLASH)\n",
        "      case ' ':  pass\n",
        "      case '\\r': pass\n",
        "      case '\\t': pass\n",
        "      case '\\n': self.line += 1\n",
        "      case '\"': self.string()\n",
        "      case _:\n",
        "        if self.isDigit(c):\n",
        "          self.number()\n",
        "        elif self.isAlpha(c):\n",
        "          self.identifier()\n",
        "        else:\n",
        "          error(self.line,\"Unexpected character.\")\n",
        "    return\n",
        "\n",
        "  def advance(self):\n",
        "    c = self.source[self.current]\n",
        "    self.current += 1\n",
        "    return c\n",
        "\n",
        "  def peek(self):\n",
        "    if self.isAtEnd(): return '\\0'\n",
        "    return self.source[self.current]\n",
        "\n",
        "  def peekNext(self):\n",
        "    if self.current+1 > len(self.source): return '\\0'\n",
        "    return self.source[self.current+1]\n",
        "\n",
        "  def matchNext(self,expected):\n",
        "    if self.isAtEnd(): return False\n",
        "    if self.source[self.current] != expected: return False\n",
        "    self.current += 1\n",
        "    return True\n",
        "\n",
        "  def addToken(self,atype,literal=None):\n",
        "    text = self.source[self.start:self.current] # +1?\n",
        "    self.tokens.append(Token(atype,text,literal,self.line))\n",
        "    return\n",
        "\n",
        "  def isAtEnd(self): return self.current >= len(self.source)\n",
        "  def isDigit(self,c): return '0' <= c <= '9'\n",
        "\n",
        "  def string(self):\n",
        "    while (self.peek() != '\"') and (not self.isAtEnd()):\n",
        "      if self.peek() == '\\n': self.line += 1\n",
        "      self.advance()\n",
        "    if self.isAtEnd():\n",
        "      error(self.line,\"Unterminated string.\")\n",
        "      return\n",
        "\n",
        "    self.advance()\n",
        "\n",
        "    # Trim surrounding quotes:\n",
        "    value = self.source[self.start+1:self.current-1]\n",
        "    self.addToken(TokenType.STRING,value)\n",
        "    return\n",
        "\n",
        "  def number(self):\n",
        "    while self.isDigit(self.peek()): self.advance()\n",
        "\n",
        "    # Look for a fractional part\n",
        "    if self.peek() == '.' and self.isDigit(self.peekNext()):\n",
        "      self.advance() # consume the \".\"\n",
        "      while self.isDigit(self.peek()): self.advance()\n",
        "\n",
        "\n",
        "    self.addToken(TokenType.NUMBER,float(self.source[self.start:self.current]))\n",
        "    return\n",
        "\n",
        "  def identifier(self):\n",
        "    while self.isAlphaNumeric(self.peek()): self.advance()\n",
        "    text = self.source[self.start:self.current]\n",
        "    atype = keywords.get(text,TokenType.IDENTIFIER)\n",
        "    self.addToken(atype,text)\n",
        "    return\n",
        "\n",
        "  def isAlpha(self,c): return ('a' <= c <= 'z') or ('A' <= c <= 'Z') or c=='_'\n",
        "  def isAlphaNumeric(self,c): return self.isAlpha(c) or self.isDigit(c)\n",
        "\n",
        "\n",
        "\n"
      ]
    },
    {
      "cell_type": "code",
      "execution_count": 13,
      "metadata": {
        "colab": {
          "base_uri": "https://localhost:8080/"
        },
        "id": "9N-kVielYtRM",
        "outputId": "0a78a37e-6406-41da-9ec5-5259c38e3d27"
      },
      "outputs": [
        {
          "data": {
            "text/plain": [
              "[TokenType.IDENTIFIER Hello Hello,\n",
              " TokenType.STRING \"World !\" World !,\n",
              " TokenType.NUMBER 14 14.0,\n",
              " TokenType.NUMBER 14.1 14.1,\n",
              " TokenType.BANG ! None,\n",
              " TokenType.EOF  None]"
            ]
          },
          "execution_count": 13,
          "metadata": {},
          "output_type": "execute_result"
        }
      ],
      "source": [
        "s = Scanner('Hello \"World !\" 14 14.1!')\n",
        "s.scanTokens()"
      ]
    },
    {
      "cell_type": "code",
      "execution_count": 14,
      "metadata": {
        "colab": {
          "base_uri": "https://localhost:8080/"
        },
        "id": "c8VEcef6uEJQ",
        "outputId": "0463ef75-619d-4bd9-8f14-9377179c501a"
      },
      "outputs": [
        {
          "data": {
            "text/plain": [
              "[TokenType.FOR for for,\n",
              " TokenType.LEFT_PAREN ( None,\n",
              " TokenType.IDENTIFIER i i,\n",
              " TokenType.EQUAL = None,\n",
              " TokenType.NUMBER 1 1.0,\n",
              " TokenType.COMMA , None,\n",
              " TokenType.IDENTIFIER i i,\n",
              " TokenType.LESS < None,\n",
              " TokenType.NUMBER 10 10.0,\n",
              " TokenType.COMMA , None,\n",
              " TokenType.IDENTIFIER i i,\n",
              " TokenType.PLUS + None,\n",
              " TokenType.PLUS + None,\n",
              " TokenType.RIGHT_PAREN ) None,\n",
              " TokenType.PRINT print print,\n",
              " TokenType.LEFT_PAREN ( None,\n",
              " TokenType.IDENTIFIER i i,\n",
              " TokenType.RIGHT_PAREN ) None,\n",
              " TokenType.EOF  None]"
            ]
          },
          "execution_count": 14,
          "metadata": {},
          "output_type": "execute_result"
        }
      ],
      "source": [
        "s = Scanner(\"for(i=1, i<10, i++) print(i)\")\n",
        "s.scanTokens()"
      ]
    },
    {
      "cell_type": "code",
      "execution_count": null,
      "metadata": {
        "id": "lJfS36vqyJHV"
      },
      "outputs": [],
      "source": []
    },
    {
      "cell_type": "code",
      "execution_count": null,
      "metadata": {},
      "outputs": [],
      "source": []
    }
  ],
  "metadata": {
    "colab": {
      "provenance": []
    },
    "kernelspec": {
      "display_name": "Python 3",
      "name": "python3"
    },
    "language_info": {
      "codemirror_mode": {
        "name": "ipython",
        "version": 3
      },
      "file_extension": ".py",
      "mimetype": "text/x-python",
      "name": "python",
      "nbconvert_exporter": "python",
      "pygments_lexer": "ipython3",
      "version": "3.12.3"
    }
  },
  "nbformat": 4,
  "nbformat_minor": 0
}
